{
 "cells": [
  {
   "cell_type": "markdown",
   "metadata": {},
   "source": [
    "# Semantic Modelling Papers / NLU"
   ]
  },
  {
   "cell_type": "markdown",
   "metadata": {},
   "source": [
    "## Papers\n",
    "\n",
    "1. https://web.stanford.edu/class/cs124/lec/chatbot.pdf\n",
    "2. https://arxiv.org/pdf/1701.03185.pdf\n",
    "3. https://www.aclweb.org/anthology/N/N15/N15-1020.pdf\n",
    "4. https://arxiv.org/abs/1701.03185\n",
    "5. http://aclweb.org/anthology/I17-2069\n",
    "6. http://www.wildml.com/2016/04/deep-learning-for-chatbots-part-1-introduction/\n",
    "7. https://web.stanford.edu/~jurafsky/slp3/28.pdf\n",
    "8. https://nlp.stanford.edu/IR-book/pdf/08eval.pdf"
   ]
  }
 ],
 "metadata": {
  "kernelspec": {
   "display_name": "Python 3",
   "language": "python",
   "name": "python3"
  },
  "language_info": {
   "codemirror_mode": {
    "name": "ipython",
    "version": 3
   },
   "file_extension": ".py",
   "mimetype": "text/x-python",
   "name": "python",
   "nbconvert_exporter": "python",
   "pygments_lexer": "ipython3",
   "version": "3.6.0"
  }
 },
 "nbformat": 4,
 "nbformat_minor": 2
}
