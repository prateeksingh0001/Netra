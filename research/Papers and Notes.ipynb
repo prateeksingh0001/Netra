{
 "cells": [
  {
   "cell_type": "markdown",
   "metadata": {},
   "source": [
    "# Semantic Modelling Papers / NLU"
   ]
  },
  {
   "cell_type": "markdown",
   "metadata": {},
   "source": [
    "### Standard Papers\n",
    "\n",
    "1. https://web.stanford.edu/class/cs124/lec/chatbot.pdf\n",
    "2. https://arxiv.org/pdf/1701.03185.pdf\n",
    "3. https://www.aclweb.org/anthology/N/N15/N15-1020.pdf\n",
    "4. https://arxiv.org/abs/1701.03185\n",
    "5. http://aclweb.org/anthology/I17-2069\n",
    "6. http://www.wildml.com/2016/04/deep-learning-for-chatbots-part-1-introduction/\n",
    "7. https://web.stanford.edu/~jurafsky/slp3/28.pdf\n",
    "8. https://nlp.stanford.edu/IR-book/pdf/08eval.pdf\n",
    "7. http://www.aclweb.org/anthology/P16-1049"
   ]
  },
  {
   "cell_type": "markdown",
   "metadata": {},
   "source": [
    "### Intent Identification\n",
    "1.  https://medium.com/@brijrajsingh/chat-bots-designing-intents-and-entities-for-your-nlp-models-35c385b7730d\n",
    "2. https://github.com/mlehman/nlp-intent-toolkit\n",
    "3. https://www.quora.com/What-machine-learning-algorithms-are-used-by-services-like-wit-ai-and-api-ai\n",
    "4. http://people.cs.pitt.edu/~hashemi/papers/QRUMS2016_HBHashemi.pdf\n"
   ]
  },
  {
   "cell_type": "markdown",
   "metadata": {},
   "source": [
    "### Named Entity Recognition\n",
    "https://nlp.stanford.edu/software/CRF-NER.shtml"
   ]
  },
  {
   "cell_type": "markdown",
   "metadata": {},
   "source": [
    "### Q&A\n",
    "https://ac.els-cdn.com/S1877705812009897/1-s2.0-S1877705812009897-main.pdf?_tid=bf30778c-091e-11e8-9d58-00000aab0f6c&acdnat=1517689010_c93ad84a035dbaca807c3d4c66bb079d"
   ]
  },
  {
   "cell_type": "markdown",
   "metadata": {},
   "source": [
    "# Automated Image Captioning"
   ]
  },
  {
   "cell_type": "markdown",
   "metadata": {},
   "source": [
    "1. https://research.googleblog.com/2016/09/show-and-tell-image-captioning-open.html\n",
    "2. "
   ]
  }
 ],
 "metadata": {
  "kernelspec": {
   "display_name": "Python 3",
   "language": "python",
   "name": "python3"
  },
  "language_info": {
   "codemirror_mode": {
    "name": "ipython",
    "version": 3
   },
   "file_extension": ".py",
   "mimetype": "text/x-python",
   "name": "python",
   "nbconvert_exporter": "python",
   "pygments_lexer": "ipython3",
   "version": "3.6.0"
  }
 },
 "nbformat": 4,
 "nbformat_minor": 2
}
